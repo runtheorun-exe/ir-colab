{
  "nbformat": 4,
  "nbformat_minor": 0,
  "metadata": {
    "colab": {
      "name": "Copy of Untitled1.ipynb",
      "provenance": [],
      "collapsed_sections": [],
      "mount_file_id": "1K7KkSBpGefp2w55S6hSo-xfmudDxMYDt",
      "authorship_tag": "ABX9TyNAh0kVCjSi7EF0FuiY9Asv",
      "include_colab_link": true
    },
    "kernelspec": {
      "name": "python3",
      "display_name": "Python 3"
    },
    "language_info": {
      "name": "python"
    },
    "accelerator": "GPU"
  },
  "cells": [
    {
      "cell_type": "markdown",
      "metadata": {
        "id": "view-in-github",
        "colab_type": "text"
      },
      "source": [
        "<a href=\"https://colab.research.google.com/github/runtheorun-exe/ir-colab/blob/sbert/Copy_of_Untitled1.ipynb\" target=\"_parent\"><img src=\"https://colab.research.google.com/assets/colab-badge.svg\" alt=\"Open In Colab\"/></a>"
      ]
    },
    {
      "cell_type": "markdown",
      "metadata": {
        "id": "trOu16xKsvDZ"
      },
      "source": [
        "Importing and downloading all dependencies"
      ]
    },
    {
      "cell_type": "code",
      "metadata": {
        "id": "WrIbqdpgzUrL"
      },
      "source": [
        "%tensorflow_version 1.x\n",
        "!pip install bert-serving-client\n",
        "!pip install -U bert-serving-server[http]\n",
        "!pip install -U sentence_transformers\n",
        "!pip install elasticsearch\n",
        "!pip install flask-ngrok\n",
        "!pip install flask==0.12.2 "
      ],
      "execution_count": null,
      "outputs": []
    },
    {
      "cell_type": "code",
      "metadata": {
        "id": "jIWgIimKzalx"
      },
      "source": [
        "!wget https://storage.googleapis.com/bert_models/2018_10_18/uncased_L-12_H-768_A-12.zip\n",
        "import pandas as pd\n",
        "from sentence_transformers import SentenceTransformer, util\n",
        "import torch\n",
        "model = SentenceTransformer('paraphrase-MiniLM-L6-v2')\n",
        "from bert_serving.client import BertClient\n",
        "import json\n",
        "import requests\n",
        "from elasticsearch import Elasticsearch\n"
      ],
      "execution_count": null,
      "outputs": []
    },
    {
      "cell_type": "code",
      "metadata": {
        "id": "s20RrpsFzdRs"
      },
      "source": [
        "!unzip uncased_L-12_H-768_A-12.zip\n",
        "!nohup bert-serving-start -model_dir=./uncased_L-12_H-768_A-12 out.file2>&1&"
      ],
      "execution_count": null,
      "outputs": []
    },
    {
      "cell_type": "markdown",
      "metadata": {
        "id": "7l5-U5GhrmWb"
      },
      "source": [
        "Ensure bert was installed succesfully\n"
      ]
    },
    {
      "cell_type": "markdown",
      "metadata": {
        "id": "k10k2SBy4TXk"
      },
      "source": [
        "Search with SentenceTransformers\n"
      ]
    },
    {
      "cell_type": "code",
      "metadata": {
        "id": "A0w7HuVL0gH4"
      },
      "source": [
        "df = pd.read_excel (r'/content/drive/MyDrive/cordis-h2020projects.xlsx')\n",
        "objective_list=df['objective'].values.tolist()\n",
        "title_list=df['title'].values.tolist()\n",
        "id_list=df['id'].values.tolist() \n",
        "corpus_embeddings = model.encode(objective_list, convert_to_tensor=True)\n",
        "user_query=\"REPAC\"#input(\"Enter search query:\")"
      ],
      "execution_count": null,
      "outputs": []
    },
    {
      "cell_type": "code",
      "metadata": {
        "id": "ugMNPbQ3KZBN",
        "colab": {
          "base_uri": "https://localhost:8080/"
        },
        "outputId": "b6ebff29-4d19-410e-e7cb-e3db9ceb45df"
      },
      "source": [
        "top_k = min(20, len(objective_list))\n",
        "query_embedding = model.encode(user_query, convert_to_tensor=True)\n",
        "cos_scores = util.pytorch_cos_sim(query_embedding, corpus_embeddings)[0]\n",
        "top_results = torch.topk(cos_scores, k=top_k)\n",
        "\n",
        "print(\"\\n\\n======================\\n\\n\")\n",
        "print(\"Query:\", user_query)\n",
        "print(\"\\nTop 20 results:\")\n",
        "flag=0\n",
        "for score, idx in zip(top_results[0], top_results[1]):\n",
        "    flag+=1\n",
        "    print(flag,\":\",title_list[idx],\"\\nProject ID:\",id_list[idx],\"\\nObjective:\",objective_list[idx], \"(Score: {:.4f})\".format(score),\"\\n\\n\")"
      ],
      "execution_count": null,
      "outputs": [
        {
          "output_type": "stream",
          "name": "stdout",
          "text": [
            "\n",
            "\n",
            "======================\n",
            "\n",
            "\n",
            "Query: REPAC\n",
            "\n",
            "Top 20 results:\n",
            "1 : Repetition, Parallelism and Creativity: An Inquiry into the Construction of Meaning in Ancient Mesopotamian Literature and Erudition \n",
            "Project ID: 803060 \n",
            "Objective: REPAC is a contribution to the intellectual history of Ancient Mesopotamia, one of mankind’s earliest civilizations. The project investigates the relationship between textual form and function in Mesopotamian literature and scholarly compositions. It focuses on exact and variant repetition as a text structuring device and demonstrates that the use of repetition is grounded in a fundamental aspect of the worldview of Mesopotamian learned scribes. REPAC studies literary, magical and mantic texts written on clay tablets inscribed in the Cuneiform script in the Akkadian language dating from the first millennium BCE. Parallelism, refrain, ring composition and similar types of regular, part-repetitive patterning occur on all levels of these erudite textual genres. Textual elements which are separate but yoked together through contiguity and similarity were a major vector for poetic creativity, rhetorical effectiveness and inventiveness in argumentation. Repetition in its various forms was used not only as a means of aesthetic ornamentation. In mantic texts, it opened a way to understand the world through analogical reasoning. Literary texts constructed arguments by elucidating different aspects of their theme through sequences of parallel, but slightly divergent, statements. In magical rituals, repetition was used for magical action through the construction of persuasive analogies. The ubiquity of textual repetition was rooted in the scribes’ belief in the meaningful and causally effective interconnection of words, concepts and things sharing an element of similarity. No sustained effort at understanding this worldview and the importance of analogy as a principle of Mesopotamian literary and scholarly method has ever been made. The project fills this major knowledge gap. It will lead to a significantly improved understanding of the creative effort of Ancient Mesopotamia. (Score: 0.6972) \n",
            "\n",
            "\n",
            "2 : Reusable, returnable packaging for e-commerce \n",
            "Project ID: 671852 \n",
            "Objective: RePack is a sustainable packaging system for online retailers and shoppers whereby delivery packages can be conveniently and easily returned, and then re-used. It is a system level innovation and its business\n",
            "model consists of three elements: 1) Reusable design packaging; 2) Stock, deposit management, and track and trace software; and 3) Market place for voucher use.\n",
            "\n",
            "In Europe alone 3,7 billion disposable packages are sent to consumers annually. Ecommerce market has evaluated market size as 312 billion Euros and growing at almost 20 % annually (Ecommerce Europe,\n",
            "2013). For webstores disposable packaging is a wasted opportunity to improve consumer experience, increase consumer loyalty and improve their supply chain efficiency. This behavior is wasteful from the\n",
            "perspective of consumers, webstores, environment and society as a whole. RePack end users save money on their next purchase and web stores improve consumer loyalty while offering environmentally\n",
            "sustainable delivery alternative to disposable packaging.\n",
            "\n",
            "The main specific objective of the feasibility study is to pilot RePack in other EU markets. This pilot is used to gather consumer and webstore feedback to identify benefits and analyse bottlenecks in the ecommerce value chain in EU markets. Our current analysis is that the main bottleneck is lack of awareness regarding our innovation outside Finland, limited sales channels, lack of e-commerce contacts and long sales and project cycles. This is especially related to fashion ecommerce. We want to further investigate these bottlenecks, increase awareness of our solution and accelerate Repack adoption cycles. (Score: 0.5598) \n",
            "\n",
            "\n",
            "3 : Drug repurposing in pancreatic ductal adenocarcinoma \n",
            "Project ID: 891135 \n",
            "Objective: The main objective of the REPANCAN is to integrate Jelena Grahovac, PhD at the Institute for Oncology and Radiology of Serbia, as a leader of a project that will address an urgent unmet need for new treatment strategy for patients with pancreatic ductal adenocarcinoma (PDAC).  PDAC is one of the most lethal types of cancer in the world, with a 5-year survival rate of less than 5% and an increasing incidence rate. Research on PDAC is limited and progress in patient survival has not been made in the last 40 years. To circumvent the high costs and long development times for new oncological drugs, the REPANCAN project will use the drug repurposing concept and establish a novel use for a class of nischarin (NISCH) receptor agonists. NISCH receptor itself has been shown to be a tumor suppressor in breast cancer and its agonists hold promise for targeting several aspects of the PDAC pathology: cell invasiveness, survival, metabolism, and the microenvironment. To address the acute demand for novel PDAC therapy, the REPANCAN project will integrate the bioinformatic, molecular and cellular research with the retrospective patient study though 3 research objectives: 1) Examination of levels of NISCH in patient tumor samples and in vitro model systems, 2) Establishment of mechanisms by which clinically approved NISCH agonists can limit PDAC growth and 3) Retrospective analysis of effects of NISCH agonist treatment on PDAC progression in patients. To strengthen the competence of Dr Grahovac and use cutting edge technologies in REPANCAN, a secondment at Dr Peter Carmeliet’s laboratory at VIB-KU Leuven is planned. REPANCAN will establish a novel prognostic marker, novel drug target and a ground for repurposing of low-cost drugs proven to be safe in one of the most lethal and understudied types of cancer. (Score: 0.4967) \n",
            "\n",
            "\n",
            "4 : CHARACTERIZATION, COMPATIBILIZATION, PROCESSING AND PROPERTIES OF RECYCLED POLYOLEFINS \n",
            "Project ID: 860221 \n",
            "Objective: CHARACTERIZATION, COMPATIBILIZATION, PROCESSING AND PROPERTIES OF RECYCLED POLYOLEFINS (REPOL) is a European Industrial Doctorate established by a consortium of leading European scientists in the academic and private industrial sector of polymer science and engineering. The University of the Basque Country (SP) and the University of Genova (IT) are the academic beneficiaries while Borealis is the industrial beneficiary (AT). They will collaborate in research-related and transferable training activities, through the execution of individual projects of three early stage researchers (ESRs) with a highly synergic, intersectoral and multidisciplinary approach in the field of polyolefins recycling. Currently, effective and innovative upgrade polyolefins recycling technologies are urgently needed to address global environmental concerns. European industries require skilled researchers to exploit academic knowledge on polymer chemistry, physics, and engineering, and switch innovation and investment from an economic system to an ecological one, driven by circular economy. In this sense, the REPOL project will address these challenges through a combination of fundamental and applied research training programme to enhance the scientific excellence and competitiveness of polymer recycling in Europe. The project aims to develop characterization tools for recycled polyolefins, find novel compatibilization routes, design upgraded recycled postconsumer based blends and nanocomposite blends, and study the scalability of the developed recycled materials. REPOL will become a reference at the International Level, improve R&D capacity between participating organisations and boost synergies and better knowledge transfer between sectors in the area of polymer recycling, by promoting the mobility of ESRs and sustainable training cooperation. (Score: 0.4485) \n",
            "\n",
            "\n",
            "5 : High Performance and Embedded Architecture and Compilation \n",
            "Project ID: 687698 \n",
            "Objective: HiPEAC is a support action that aims to structure and strengthen the European academic and industrial communities in computing systems: (i) by increasing innovation awareness and by encouraging researchers to engage in innovation activities; (ii) by professionally disseminating program achievements beyond the traditional scientific venues; (iii) by producing a vision document including recommendations on how to improve the innovation potential of H2020 projects, and (iv) by growing the computing systems community beyond 2000 active members in Europe.\n",
            "\n",
            "The HiPEAC support action is meant to be the continuation of three successful FP7 networks of excellence with the same name (HiPEAC1-3). This support action will leverage the existing community, the expertise and the set of instruments that were developed since 2004 and work on the objectives of this support action: cross-sectorial platform-building, clustering of related research projects,  structuring the European academic and industrial research communities, dissemination of programme achievements, impact analysis, constituency building and roadmapping for future research and innovation agendas.\n",
            "\n",
            "The overall approach of the HiPEAC support action is that it wants to bring together all actors and stakeholders in the computing systems community in Europe - especially EU-funded projects and SMEs - in one well managed structure where they can interact, disseminate/share information, transfer knowledge/technology, exchange human resources, think about their future challenges, experiment with ideas to strengthen the community, etc.\n",
            "\n",
            "The HiPEAC support action will support its members and projects with tasks that are too difficult/complex to carry out individually: vision building, professional communication, recruitment, event management at the European level. By offering such services a burden is taken away from the projects and members. They can then focus on the content, and the impact of their efforts is amplified. (Score: 0.4345) \n",
            "\n",
            "\n",
            "6 : Food quality and food innovative strategies to prevent reproductive and eating disorders \n",
            "Project ID: 713714 \n",
            "Objective: The main objective of REP-EAT  is to build up a new and innovative research and training doctoral programme (DP) in the interdisciplinary domain of food and healthy diet to deepen the impact of food quality on reproductive Health (REP) and eating disorders (EAT). In compliance with the concept of “One Health”, REP-EAT DP will focus on the effect of diet determinants on both humans and animals thus implying a strict integration amongst food and life science research advances.\n",
            "REP-EAT is aimed at training a new generation of creative, entrepreneurial and innovative Early-Stage Researchers (ESRs). The DP will rely on the joint efforts of qualified tutors involved in three pre-existing doctoral courses in Biotechnology, Food Science and Veterinary Medicine of the beneficiary institution, UniTE. REP-EAT is further strengthened by the partnership (9 EU and 2 USA academic and 23 EU non-academic partners) with qualified complementary groups that have fruitfully interacted in previous successful training and research programmes of UniTE. \n",
            "ESRs can undertake an independent and personalized training and research career development plans to be awarded a European double PhD degree from European University partners. ESRs will be exposed to research and entrepreneurial sectors in each phase of the DP (from selection to mentoring, training, research secondment and dissemination activities) to achieve a wide set of technical and transferable skills required to convert knowledge and ideas into products and services for economic and social benefit, to build up their future career perspectives. The regional authority, Abruzzo Region, will provide cofunding support consistently with the regional Smart Specialization Strategy (RIS3) using ESIF funds, in order to foster the development of qualified human resources in Agro-food area, a leading sector of regional economy in needs of continuous innovation in order to compete in the global market. (Score: 0.4222) \n",
            "\n",
            "\n",
            "7 : PRACE 5th Implementation Phase Project \n",
            "Project ID: 730913 \n",
            "Objective: PRACE, the Partnership for Advanced Computing is the permanent pan-European High Performance Computing service providing world-class systems for world-class science. Systems at the highest performance level (Tier-0) are deployed by Germany, France, Italy and Spain providing researchers with over 11 billion core hours of compute time. HPC experts from 25 member states enabled users from academia and industry to ascertain leadership and remain competitive in the Global Race. Currently PRACE is in transition to PRACE 2, the successor of the initial five year period. The objectives of PRACE-5IP are to build on and seamlessly continue the successes of PRACE and start new innovative and collaborative activities proposed by the consortium. These include: assisting the transition to PRACE 2 including an analysis of Trans National Access; strengthening the internationally recognised PRACE brand; continuing and extend advanced training which so far provided more than 18 800 persontraining days; preparing strategies and best practices towards Exascale computing; coordinating and enhancing the operation of the multi-tier HPC systems and services; and supporting users to exploit massively parallel systems and novel architectures. A high level Service Catalogue is provided. The proven project structure will be used to achieve each of the objectives in 6 dedicated work packages. The activities are designed to increase Europe's research and innovation potential especially through: seamless and efficient Tier-0 services and a pan-European HPC ecosystem including national capabilities; promoting take-up by industry and new communities and special offers to SMEs; implementing a new flexible business model for PRACE 2; proposing strategies for deployment of leadership systems; collaborating with the ETP4HPC, CoEs and other European and international organisations on future architectures, training, application support and policies. This will be monitored through a set of KPIs. (Score: 0.4221) \n",
            "\n",
            "\n",
            "8 : European Joint Doctorate in Biology and Technology of Reproductive Health \n",
            "Project ID: 675526 \n",
            "Objective: The main objective of the European Doctorate in Biology and Technology of the Reproductive Health (REP-BIOTECH) is to build a research, training and academic programme in the interdisciplinary domain of reproductive health and fertility. Basic knowledge of mechanisms involved in mammalian fertilization and embryo development provides useful strategies to improve food quality (by implementation of efficient and secure animal reproductive technologies), human health (by contributing to the control of reproductive diseases and epidemiologic factors) and human and animal fertility (by identifying target molecules for successful conception or contraception).\n",
            "REP-BIOTECH is a PhD programme with the aim of training a new generation of creative, entrepreneurial and innovative Early-Stage Researchers (ESRs). ESRs must carry out independent research on a specific topic to be awarded a European Joint Degree from 5 European Universities (Beneficiaries). \n",
            "The PhD project will be jointly supervised within a joint governance structure in which the beneficiaries as well as the partner organisations will be actively involved. The Doctorate programme will expose ESRs to different sectors and they will acquire a comprehensive set of transferable skills working in the specific research area relating to their doctoral thesis.\n",
            "The consortium has a proven track record in their area and they have a history of fruitful scientific collaboration. Moreover, giving the diversity amongst the participating institutions, the ESRs will be able to face current and future challenges in order to convert knowledge and ideas into products and services for economic and social benefit. The strength of the partnership lies in being a multidisciplinary group (animal and human fertility, reproductive health and reproductive technologies) within the cooperation of 7 different European countries, the collaboration of Universities from Japan and United States and partners from the non academic sector. (Score: 0.4215) \n",
            "\n",
            "\n",
            "9 : Strengthening European integration through the analysis of conflict discourses: revisiting the past, anticipating the future \n",
            "Project ID: 769252 \n",
            "Objective: RePAST aims at investigating how European societies deal with their troubled pasts today through the analysis of conflict discourses rooted in those pasts, with a view on the impact of those discourses on European integration. It will implement actions and propose strategies, both at the levels of policy-making and civil society, for reflecting upon these discourses to strengthen European integration. The project addresses directly the specific challenge and scope of the topic CULT-COOP-02-2017, focusing on civil society, informal education and political discourses. The methodological approach of RePAST is based on (i) multidisciplinarity, (ii) cross-country comparative analysis and (iii) innovative actions for citizens’ engagement with troubled pasts. First, conflict discourses rooted in troubled pasts will be studied in four fundamental spaces of civil society and sources of informal education: (a) history (oral and official), (b) media (journalistic- and citizen-led media), (c) art and culture, (d) politics (formal and informal politics). It will also take into account how the current crisis in its multiple forms (economic crisis, refugee crisis, political crisis) mediates these narratives. RePAST brings the various disciplines in dialogue with each other on the ground of an empirical study across the geographical and historical spectrum. Second, RePAST will study comparatively eight cases of countries whose troubled pasts sit squarely on legacies that still endanger European integration today: Cyprus, Germany, Poland, Greece, Bosnia, Kosovo, Ireland, and Spain. Lastly, RePAST emphasizes the active engagement of memory agents through a series of innovative actions for creating participatory experiences, i.e. interactive storytelling, research tool for analysis on memory and conflict, webinars for cultural tourism professionals, a quiz game tour to discover troubled pasts, and digital games for renegotiating troubled pasts. (Score: 0.4140) \n",
            "\n",
            "\n",
            "10 : PRACE 6th Implementation Phase Project \n",
            "Project ID: 823767 \n",
            "Objective: PRACE, the Partnership for Advanced Computing is the permanent pan-European High Performance Computing service providing world-class systems for world-class science. Systems at the highest performance level (Tier-0) are deployed by Germany, France, Italy, Spain and Switzerland, providing researchers with more than 17 billion core hours of compute time. HPC experts from 25 member states enabled users from academia and industry to ascertain leadership and remain competitive in the Global Race. Currently PRACE is finalizing the transition to PRACE 2, the successor of the initial five year period. The objectives of PRACE-6IP are to build on and seamlessly continue the successes of PRACE and start new innovative and collaborative activities proposed by the consortium. These include: assisting the development of PRACE 2; strengthening the internationally recognised PRACE brand; continuing and extend advanced training which so far provided more than 36 400 person·training days; preparing strategies and best practices towards Exascale computing, work on forward-looking SW solutions; coordinating and enhancing the operation of the multi-tier HPC systems and services; and supporting users to exploit massively parallel systems and novel architectures. A high level Service Catalogue is provided. The proven project structure will be used to achieve each of the objectives in 7 dedicated work packages. The activities are designed to increase Europe's research and innovation potential especially through: seamless and efficient Tier-0 services and a pan-European HPC ecosystem including national capabilities; promoting take-up by industry and new communities and special offers to SMEs; assistance to PRACE 2 development; proposing strategies for deployment of leadership systems; collaborating with the ETP4HPC, CoEs and other European and international organisations on future architectures, training, application support and policies. This will be monitored through a set of KPIs. (Score: 0.4102) \n",
            "\n",
            "\n",
            "11 : Repeat protein Function Refinement, Annotation and Classification of Topologies \n",
            "Project ID: 823886 \n",
            "Objective: The REFRACT proposal answers the RISE call, aiming at the promotion of an international and interdisciplinary collaboration on tandem repeat proteins (TRPs) through the sharing of knowledge and expertise between partners via staff exchanges. REFRACT is an international consortium aiming to extend our knowledge on the mechanism of TRP function and evolution, establishing a common classification and best practices. Starting from available state of the art computational tools and databases, which have been mostly developed by REFRACT participants, it aims drive a new level of TRP characterization leveraging the complementary expertise of 7 EU MS and 9 TC institutions in Latin America, with the latter providing useful complementary expertises. This aim will be achieved by the following steps:\n",
            "Benchmarking different existing methods and defining their use-cases;\n",
            "Coordinating the necessary next steps to analyze TRP roles in biological pathways and organism evolution; \n",
            "Providing a detailed description of their mechanism of function, related to their structural properties, that can be of great importance in TRP-related medical research and biotechnological applications;\n",
            "Building a unified and commonly accepted TRP classification from sequence and structure as well as characterizing the relationship between the two.\n",
            "The REFRACT implementation will take advantage of the different expertises, supporting them by a combination of research-centered, training and dissemination activities. The secondment program is designed so that all the participating institutions will be actively involved not only in the production of scientific outcomes, but also be empowered with the responsibility of planning, monitoring and discussing project advancement. The broadest possible dissemination of the results will be achieved through dedicated activities, the propagation of results into ELIXIR core data resources (InterPro, and consequently UniProt) as well as possible industrial exploitation. (Score: 0.4089) \n",
            "\n",
            "\n",
            "12 : Increasing INternational Science, Technology and Innovation COoperation between BRAzil and the European Union \n",
            "Project ID: 692520 \n",
            "Objective: INCOBRA – Increasing Science, Technology and Innovation (STI) International Cooperation between Brazil (BR) and the European Union (EU) – is a 36-month Coordination and Support Action aiming to increase, enhance and focus Research and Innovation (R&I) cooperation between BR and EU.\n",
            "INCOBRA is expected to contribute to (i) Increased cooperation patterns – by supporting cooperation networks among BR and EU R&I actors (Work Package –WP2), (ii) Enhanced framework conditions – by fostering coordination and alignment of R&I funding in BR and EU (WP3), (iii) More focused BR-EU R&I cooperation – by identifying emerging topics and opportunities in priority R&I areas for cooperation (WP1). Capacity building, sustainability will also be fully addressed by INCOBRA (WP4 and WP5, respectively).\n",
            "INCOBRA’s approach is completely aligned with the EU Strategy for International R&I Cooperation, the EU Roadmap for R&I Cooperation with BR, the BR-EU Policy Dialogue priorities and with the work of the Strategic Forum for International STI Cooperation (SFIC). It thus draws upon a multilateral perspective (interests and needs of BR-state level, BR-federal level, EU and EU-Member States), whilst capitalizing and going beyond the outcomes of the previous R&I cooperation project with Brazil (B.BICE\\). INCOBRA’s approach also assumes innovation (holistic concept) as a key driver for BR-EU STI cooperation and Strategic Foresight as a relevant tool to anticipate R&I trends of mutual interest for BR and EU R&I actors, while promoting mutual openness of BR and EU R&I funding programmes to encourage cooperation.\n",
            "The INCOBRA consortium comprises 13 partners (7 from EU and 6 from BR), including Universities, Research Organizations, International Organizations, Technology Parks, Private Companies and Funding Agencies. Building upon a stakeholder-driven basis, INCOBRA already incorporates 36 organizations as members of the Stakeholder Group to be deployed during the project. (Score: 0.4032) \n",
            "\n",
            "\n",
            "13 : Accelerating the lab to market transition of AI tools for cancer management \n",
            "Project ID: 952172 \n",
            "Objective: CHAIMELEON aims to set up a structured repository for health imaging data to be openly reused in AI experimentation for cancer management. An EU-wide repository will be built as a distributed infrastructure in full compliance with legal and ethics regulations in the involved countries. It will build on partner´s experience (e.g. PRIMAGE repository for paediatric cancer and the Euro-BioImaging node for Valencia population, by HULAFE; the Radiomics Imaging Archive by Maastricht University; the national repository DRIM AI France, the Oncology imaging biobank by Pisa University). Clinical partners and external collaborators will populate the Repository with multimodality (MR, CT, PET/CT) imaging and related clinical data for historic and newly diagnosed lung, prostate and colorectal cancer patients.\n",
            "A multimodal analytical data engine will facilitate to interpret, extract and exploit the right information stored at the Repository. An ambitious development and implementation of AI-powered pipelines will enable advancement towards automating data deidentification, curation, annotation, integrity securing and images harmonisation, the latest being of the highest importance for enabling reproducibility of Radiomics when using large multiscanner/multicentre image datasets.\n",
            "The usability and performance of the Repository as a tool fostering AI experimentation will be validated, including a validation subphase by other world-class European AI developers, articulated via the organisation of Open Challenges to the AI Community. A set of selected AI tools will undergo early on-silico validation in observational (non-interventional) clinical studies coordinated by leading experts in Gustave Roussy (lung cancer), San Donato (breast), Sapienza (colorectal) and La Fe (prostate) hospitals. Their performance will be assessed, including external independent validation, on hallmark clinical decisions in response to some of the currently most important clinical end points in cancer. (Score: 0.3955) \n",
            "\n",
            "\n",
            "14 : PLAtform for Climate Adaptation and Risk reDuction \n",
            "Project ID: 653255 \n",
            "Objective: Significant challenges exist towards strengthening the Climate Change Adaptation (CCA) and Disaster Risk Reduction (DRR) communities for coherent, mutually reinforcing and pragmatic planning and action. PLACARD seeks to support the coordination of these two communities. PLACARD will tackle current challenges by 1) providing a common ‘space’ where CCA and DRR communities can come together, share experiences and create opportunities for collaboration; 2) facilitating communication and knowledge exchange between both communities; and 3) supporting the coordination and coherence of CCA and DRR research, policy and practice. PLACARD’s approach to achieving these goals is to establish a strong and operational network of networks by connecting to existing networks and boundary organisations, to foster dialogue among stakeholders (e.g. researchers, research funders, policymakers, practitioners) engaged in CCA and DRR at the international, European, national and sub-national scales. This overarching network will enable these communities to share knowledge, to discuss challenges and to jointly co-produce options to bridge the gaps they experience. It will support the development and implementation of a research and innovation agenda to make better use of research funding, as well as to develop guidelines to strengthen relevant institutions in their efforts to mainstream CCA and DRR. PLACARD will evolve iteratively, learning from the different processes and experiences with the stakeholders, and being flexible and responsive to changing needs. PLACARD will be supported by an online platform that builds upon and links existing CCA and DRR platforms to streamline the dissemination and communication of CCA and DRR activities. PLACARD Consortium is built around the leadership of a number of key European institutions experienced in CCA and DRR policy and practice, and UN organizations leading and engaged inpost-2015 agendas. (Score: 0.3946) \n",
            "\n",
            "\n",
            "15 : PRACE 4th Implementation Phase Project \n",
            "Project ID: 653838 \n",
            "Objective: PRACE, the Partnership for Advanced Computing, was established in May 2010 as a permanent pan-European High Performance Computing service providing world-class systems for world-class science. Six systems at the highest performance level (Tier-0) are deployed by Germany, France, Italy and Spain providing researchers with over 9 billion core hours of compute time. HPC experts from twenty-five member states - funded in part in three implementation projects - enabled users from academia and industry to ascertain leadership and remain competitive in the Global Race. Currently PRACE is preparing for PRACE 2.0, the successor of the initial five year period. \n",
            "The objectives of PRACE-4IP are to build on and seamlessly continue the successes of PRACE and start new innovative and collaborative activities proposed by the consortium. These include: assisting the transition to PRACE 2.0; strengthening the internationally recognised PRACE brand; continuing advanced training which so far provided more than 15.000 person-training days to over 4700 persons, preparing strategies and best practices towards exascale computing, coordinating and enhancing the operation of the multi-tier HPC systems and services, and supporting users to exploit massively parallel systems and novel architectures.\n",
            "The proven project structure will be used to achieve each of the objectives in six dedicated work packages. The project will continue to be managed by Jülich.\n",
            "The activities are designed to increase Europe's research and innovation potential especially through: seamless and efficient Tier-0 services and a pan-European HPC ecosystem including national capabilities; promoting take-up by industry and special offers to SMEs; analysing new flexible business models for PRACE 2.0; proposing strategies for deployment of leadership systems; collaborating with the ETP4HPC, the coming CoEs and other European and international organisations on future architectures, training, application support and policies. (Score: 0.3932) \n",
            "\n",
            "\n",
            "16 : Project: Scale up of CDC production for inclusion in ultracapacitor to double the performance. \n",
            "Project ID: 719497 \n",
            "Objective: Ultracapacitors (UC) are playing an increasingly important role as efficient high power energy storage devices. UC market has shown 30% CAGR since 2009. Leading consultancy IDTechEx estimates that by 2021 the directly addressable segment of large format ultracapacitors (over 100F) is forecast to reach $4bn USD. The same research identifies low energy and power density, together with high costs, as the main factors inhibiting further market growth. Skeleton Technologies (SKL) has developed a patented carbide derived carbon (CDC) UC technology, which enables a four-fold increase in power density (78 kW/L) and twice the energy density (20 Wh/L) and, approximately halving the cost/performance ratio. \n",
            "The competitive advantage in performance and system level savings has been verified by SKL´s customers ABB, Bosch, Continental, BMW, Audi.\n",
            "SKL go-to-market strategy focuses on European customers in the industrial equipment, power grid and transportation industries. The revenue ramp-up plan is based on quantities and pricing information from numerous LOI´s and contracts with the pilot customers and fits the geographical and industry focus of SKL´s strategy. \n",
            "With 47 employees, incl. 9 PhD´s as the research core, and robust backing from strategic and private equity investors, SKL has the facilities and investments in place for UC production ramp-up. The aim of this project is to develop the technology necessary for CDC production in industrial scale to provide raw material for UC production and underpin the SKL performance advantage.\n",
            "The technological challenge is scaling CDC production from TRL 6 by deploying large-scale fluidized bed reactors at a partner manufacturer site to achieve TRL 8. Toll manufacturer will supply the material to SKL for electrode and UC production as the next step in the value chain, while ST retains control of IP. Product-to-market fit will be ensured by extensive testing with SKL´s customers to fine-tune the cost/performance ratio. (Score: 0.3897) \n",
            "\n",
            "\n",
            "17 : Restoring competitiveness – Information system for the 21st Century Manufacturing \n",
            "Project ID: 827206 \n",
            "Objective: PPROI is a revolutionary information system supporting lean management of manufacturing processes by providing users within the\n",
            "firm (from planners to senior executives) with real-time data on capital employed in every process or product in order to increase its\n",
            "manufacturing productivity, overall operational effectiveness, and return on capital. No other system at the market today can supply\n",
            "this kind of detailed information. Commercializing the PPROI IS within EU can have significant economic and social impacts\n",
            "derived from increasing competitiveness of PPROI users mainly through employment retention and employment gains in areas in\n",
            "which European companies – for cost reason - could not compete and where 1.3 mil jobs and European prosperity are at risk. \n",
            "The proposed project is a strategic initiative for growth and transformation of the company from a small innovation-driven entity, to\n",
            "a market-oriented SME with scale-up business model based on a network of implementation partners. The specific aim of the Phase\n",
            "1 is to check the feasibility of scaling-up the PPROI concept for a broad commercialization, to be realized e.g. by the SME Instrument\n",
            "Phase 2 funding. The feasibility study will have three components: 1. comprehensive business plan providing a blueprint for business\n",
            "expansion in the CEE region 2 Detailed evaluation of alternative “go-to-market” approaches, including IP protection implications. 3.\n",
            "Designing and testing the technological platform to enhance scalability.\n",
            "The company has already signed long-term service contract with four customers (two subsidiaries of large MNCs, two local SME),\n",
            "reaching TRL 6, and the next stage of company development is focused on business expansion first within the region and then\n",
            "within EU. It aims to reach turnover of 3,6 million EUR by the end of 2020 focusing on two industrial sectors critical to Europe’s\n",
            "competitiveness – automotive and electronics. (Score: 0.3892) \n",
            "\n",
            "\n",
            "18 : ACCELERATing Europe's Leading Research Infrastructures \n",
            "Project ID: 731112 \n",
            "Objective: CERIC-ERIC (CERIC) is a distributed research infrastructure for fundamental and applied research on novel materials and biomaterials. The RI has been in operation for 2 years and provides open access to a broad range of instruments and expertise across research communities, in order to support the research community world-wide in tackling the most challenging problems of materials research.  The ACCELERATE project is proposed to support CERIC sustainability through activities of collaborative development of policies with other research infrastructures (RIs), in particular new and forming ERIC entities. ACCELERATE will assist sustainability, relevance and effectiveness of the RI through preparation of frameworks for services to private and public entities, outreach to new scientific and industrial networks and geographical areas and a methodology for RI social impact assessment. Together with the RI partners CERIC will also carry out several intense courses for development of future RI managerial, IL and TT staff. The project will be carried out while maintaining vigorous communication with research and industrial communities, policy makers, EC administration and other RI stakeholders. (Score: 0.3848) \n",
            "\n",
            "\n",
            "19 : CITIZEN AND MULTI-ACTOR CONSULTATION ON HORIZON2020 \n",
            "Project ID: 665948 \n",
            "Objective: CIMULACT has as a main objective to add to the relevance and accountability of European research and innovation – Horizon 2020 as well as national - by engaging citizens and stakeholders in co-creation of research agendas based on real and validated societal visions, needs and demands. The project will expand the outlook and debate on STI issues, increase scientific literacy in a broad sense, which includes the understanding of the societal role of Science, Technology and innovation (STI), and create shared understanding between scientific stakeholders, policy-makers and citizens. This multi-actor approach will embrace EU28 plus Norway and Switzerland.\n",
            "\n",
            "The CIMULTACT builds on the principle/conviction that the collective intelligence of society gives Europe a competitive advantage, which may be activated to strengthen the relevance of the European science and technology system. By establishing genuine dialogue between citizens, stakeholders, scientists, and policymakers visions and scenarios for the desirable futures will be developed and debated, and transformed into recommendations and suggestions for research and innovation policies and topics. \n",
            "\n",
            "In short, CIMULACT will\n",
            "● Create vision and scenarios that connect societal needs with future expected advances in Science and their impact on technology, society, environment etc. in connection to the grand challenges\n",
            "● Provide concrete input to Horizon 2020 through recommendations and policy options for R&I and simulated calls for the Horizon2020 Work Programmes.\n",
            "● Engage citizens and stakeholders in a highly participatory debate/consultation/process on scenarios for desirable sustainable futures and research\n",
            "● Build capacities in citizen and multi-actor engagement in R&I through development, experimentation, training and assessment of methods for engagement\n",
            "● Facilitate dialogue and shared understanding between policymakers, citizens, and stakeholders\n",
            "● Reveal  the relative merits of the citizen focussed consultations (Score: 0.3841) \n",
            "\n",
            "\n",
            "20 : High Performance and Embedded Architecture and Compilation \n",
            "Project ID: 779656 \n",
            "Objective: HiPEAC is a coordination and support action (CSA) that aims to structure and connect the European academic and industrial research and innovation communities in computing systems (i) by increasing the industrial membership, (ii) by integrating the European innovation community, (iii) by organising activities to connect the research and innovation communities, (iv) by stimulating collaborations, (v) by producing a vision document on the future of computing systems in Europe, and (vi) by professionally disseminating the research outcomes in and beyond the European computing systems community.\n",
            "\n",
            "The HiPEAC CSA is meant to be the continuation of four successful networks with the same name (HiPEAC1-4). HiPEAC will leverage the existing community, the expertise and the set of instruments that were developed since 2004 and work on the following objectives: structuring and connecting the European computing systems community, cross-sectorial industrial platform-building, constituency building and consultations, clustering of related research and innovation projects, and road-mapping for future research and innovation agendas.\n",
            "\n",
            "The overall approach of the HiPEAC CSA is that it wants to bring together all actors and stakeholders in the computing systems community in Europe – especially EU-funded projects, SMEs and the innovation community – in one well-managed structure where they can interact, disseminate/share information, transfer knowledge/technology, exchange human resources, think about future challenges, experiment with ideas to strengthen the community, etc.\n",
            "\n",
            "The HiPEAC CSA will support its members and projects with tasks that are too difficult/complex to carry out individually: vision building, professional communications, recruitment, event management at the European level. By offering such services, a burden is taken away from the projects and members. They can then focus on the content, and the impact of their efforts is amplified. (Score: 0.3823) \n",
            "\n",
            "\n"
          ]
        }
      ]
    },
    {
      "cell_type": "markdown",
      "metadata": {
        "id": "_lvtD7cT4b_l"
      },
      "source": [
        "Prepare Elasticsearch (creating indices and filling them)\n"
      ]
    },
    {
      "cell_type": "code",
      "metadata": {
        "id": "A_iZFyQV4J2z"
      },
      "source": [
        "bc=BertClient()\n",
        "\n",
        "es = Elasticsearch(\n",
        "    cloud_id=\"ir-bert:ZXVyb3BlLXdlc3QzLmdjcC5jbG91ZC5lcy5pbyRjMGVlMTFkMmMyMDA0NTNiOTM4MmQ2ZWU2Y2EzM2JlOSQ0NzkyMzM2N2UwMTE0MDQ0OTRkNGI2ODBiYTdkMjI5NA==\",\n",
        "    http_auth=(\"elastic\", \"lMukP77h1QGrhqjSXQrK9Ans\")\n",
        ")\n",
        "try:\n",
        "  request_body = {\n",
        "          \"settings\" : {\n",
        "              \"number_of_shards\": 1,\n",
        "              \"number_of_replicas\": 1\n",
        "          },\n",
        "\n",
        "          \"mappings\": {\n",
        "              \"properties\": {\n",
        "                  \"title\": {\"type\": \"text\"},\n",
        "                  \"objective\":{\"type\": \"text\"},\n",
        "                  \"id\": {\"type\": \"text\"},\n",
        "                  \"body_vector\": {\"type\":  \"dense_vector\", \"dims\":  768}\n",
        "              }\n",
        "          }\n",
        "      }\n",
        "  es.indices.create(index = 'cordis2020', body = request_body)\n",
        "except:\n",
        "  pass\n",
        "\n",
        "flg = 0 # used to iterate through the premade lists\n",
        "lng = len(id_list)\n",
        "for x in range(0, 50): #for the sake of expedience, during development the index range was limited to less than a tenth of the original size\n",
        "  project={\n",
        "      'title': title_list[flg],\n",
        "      'objective': objective_list[flg],\n",
        "      'body_vector': model.encode([corpus_embeddings])[0].tolist(),\n",
        "      'id': id_list[flg]}\n",
        "  es.index(index='cordis2020', id=flg, body=project)\n",
        "  print(flg)\n",
        "  flg+=1\n",
        "\n",
        "print('Process complete')\n"
      ],
      "execution_count": null,
      "outputs": []
    },
    {
      "cell_type": "code",
      "metadata": {
        "id": "gKkzbjU39uFA"
      },
      "source": [
        "SEARCH_SIZE = 20 # we need 20 hits, thus search_size is set to 20\n",
        "\n",
        "script_query = {\n",
        "          \"script_score\": {\n",
        "              \"query\": {\"match_all\": {}},\n",
        "              \"script\": {\n",
        "                  \"source\": \"cosineSimilarity(params.query_vector, 'body_vector') + 1.0\",\n",
        "                  \"params\": {\"query_vector\": query_embedding}\n",
        "              }\n",
        "          }\n",
        "      }\n",
        "\n",
        "res = es.search(\n",
        "  index='cordis2020',  # name of the index\n",
        "  body={\n",
        "      \"size\": SEARCH_SIZE,\n",
        "      \"query\": user_query,\n",
        "      \"_source\": {\"includes\": [\"title\", \"objective\", \"body_vector\", \"id\"]}\n",
        "      }\n",
        "  )\n",
        "\n",
        "results = []\n",
        "for hit in res['hits']['hits']:\n",
        "  print(\"help\")\n",
        "  results.append(base_element.format(url=hit['_source']['link'], title=hit['_source']['title']))"
      ],
      "execution_count": null,
      "outputs": []
    },
    {
      "cell_type": "markdown",
      "metadata": {
        "id": "BYg6o_TzY4Eo"
      },
      "source": [
        "Beyond this point, the project may or may not be functional. The HTML interface may or may not be complete."
      ]
    },
    {
      "cell_type": "code",
      "metadata": {
        "id": "YJ0it63IYWFk"
      },
      "source": [
        "from flask import Flask\n",
        "from flask_ngrok import run_with_ngrok\n",
        "\n",
        "app = Flask(__name__)\n",
        "run_with_ngrok(app)  # Start ngrok when app is run\n",
        "\n",
        "@app.route(\"/\")\n",
        "def hello():\n",
        "    return \"Hello World!\"\n",
        "\n",
        "if __name__ == '__main__':\n",
        "    app.run()  "
      ],
      "execution_count": null,
      "outputs": []
    }
  ]
}